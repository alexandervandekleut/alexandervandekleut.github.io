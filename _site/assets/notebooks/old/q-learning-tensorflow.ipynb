{
 "cells": [
  {
   "cell_type": "code",
   "execution_count": 1,
   "metadata": {},
   "outputs": [],
   "source": [
    "import numpy as np\n",
    "import gym\n",
    "import seaborn as sns\n",
    "import pandas as pd\n",
    "import tensorflow as tf\n",
    "sns.set()"
   ]
  },
  {
   "cell_type": "markdown",
   "metadata": {},
   "source": [
    "***\n",
    "### $Q$-learning as a Regression Problem\n",
    "\n",
    "When we first learned about $Q$-learning, we used the Bellman equation to learn the $Q$ function:\n",
    "$$\n",
    "Q(s_t, a_t) \\gets Q(s_t, a_t) + \\alpha \\left( r_t + (1-d_t)\\gamma \\max_{a_{t+1}} \\left( Q(s_{t+1}, a_{t+1}) \\right) - Q(s_t, a_t) \\right)\n",
    "$$\n",
    "\n",
    "Compare this to gradient descent for a regression problem:\n",
    "$$\n",
    "\\theta \\gets \\theta - \\alpha 2 \\left( \\hat{y} - y \\right) \\nabla_\\theta \\hat{y}\n",
    "$$\n",
    "\n",
    "These methods are essentially analogous: we update parameters about our function in a manner proportional to the difference between our prediction and the 'true' value. The difference for tabular $Q$-learning is that we essentially have a different parameter for each state-action pair. If we think about our loss function, then, we have\n",
    "$$\n",
    "L(\\theta) = \\frac{1}{2} \\left( r_t + (1-d_t)\\gamma \\max_{a_{t+1}} \\left( Q(s_{t+1}, a_{t+1}) \\right) - Q(s_t, a_t) \\right)^2\n",
    "$$\n",
    "\n",
    "which we can minimize using gradient descent."
   ]
  },
  {
   "cell_type": "markdown",
   "metadata": {},
   "source": [
    "### FrozenLake with Tensorflow\n",
    "\n",
    "Before diving deep into using techniques like deep neural networks, I want to show you how we might do $Q$-learning in tensorflow using the same `FrozenLake-v0` environment from earlier.\n",
    "\n",
    "We make many changes: rather than calling functions like `act()` and `update()`, instead we make this functionality available as a tensorflow op that is a member variable of the class. This way, we can do things like `sess.run(agent.update, ...` to update, rather than call `agent.update()`.\n",
    "\n",
    "Tensorflow requires a different kind of understanding of a program. Every statement in a normal python program (`if-else` blocks, assignment, indexing an array, etc) should be converted into an equivalent tensorflow op, so that the entire computation graph represents the program in an abstract way. For now, this may seem unnecessarily obtuse, but the truth is that when we get into more advanced techniques, it will be advantageous for us to define as much of the program in tensorflow as possible."
   ]
  },
  {
   "cell_type": "code",
   "execution_count": 2,
   "metadata": {},
   "outputs": [],
   "source": [
    "class Agent:\n",
    "    def __init__(self, num_states, num_actions, \n",
    "                 epsilon_i=1.0, \n",
    "                 epsilon_f=0.0, \n",
    "                 n_epsilon=0.1, \n",
    "                 alpha=0.5, \n",
    "                 gamma = 0.95):\n",
    "        \n",
    "        tf.reset_default_graph()\n",
    "        \n",
    "        self.epsilon_i = epsilon_i\n",
    "        self.epsilon_f = epsilon_f\n",
    "        self.epsilon = tf.get_variable(\"epsilon\", initializer=tf.constant(self.epsilon_i))\n",
    "        self.n_epsilon = n_epsilon\n",
    "        self.num_states = num_states\n",
    "        self.num_actions = num_actions\n",
    "        self.alpha = alpha\n",
    "        self.gamma = gamma\n",
    "        self.Q = tf.get_variable(\"Q\", initializer=tf.zeros(shape=(num_states, num_actions), dtype=tf.float32))\n",
    "\n",
    "        self.s_t_ph = tf.placeholder(shape=(), dtype=tf.int32, name=\"state\")\n",
    "        self.a_t_ph = tf.placeholder(shape=(), dtype=tf.int32, name=\"action\")\n",
    "        self.r_t_ph = tf.placeholder(shape=(), dtype=tf.float32, name=\"reward\")\n",
    "        self.s_t_next_ph = tf.placeholder(shape=(), dtype=tf.int32, name=\"next_state\")\n",
    "        self.d_t_ph = tf.placeholder(shape=(), dtype=tf.float32, name=\"done\")\n",
    "        self.n_ph = tf.placeholder(shape=(), dtype=tf.float32, name=\"n\")\n",
    "\n",
    "        self.decay_epsilon = self.decay_epsilon_tf(self.n_ph)\n",
    "        self.act = self.act_tf(self.s_t_ph)\n",
    "        self.update = self.update_tf(self.s_t_ph, self.a_t_ph, self.r_t_ph, self.s_t_next_ph, self.d_t_ph)\n",
    "\n",
    "        \n",
    "    def decay_epsilon_tf(self, n):\n",
    "        return tf.assign(self.epsilon, tf.maximum(\n",
    "            self.epsilon_f, \n",
    "            self.epsilon_i - (n/self.n_epsilon)*(self.epsilon_i - self.epsilon_f)))\n",
    "    \n",
    "    def act_tf(self, s_t):\n",
    "        return tf.cond(tf.random_uniform(shape=(), minval=0, maxval=1, dtype=tf.float32) < self.epsilon,\n",
    "                      lambda: tf.random_uniform(shape=(), minval=0, maxval=self.num_actions, dtype=tf.int32),\n",
    "                      lambda: tf.argmax(self.Q[s_t], output_type=tf.int32))\n",
    "    \n",
    "    def update_tf(self, s_t, a_t, r_t, s_t_next, d_t):\n",
    "        Q_next = tf.reduce_max(self.Q[s_t_next])\n",
    "        TD = r_t + (1-d_t)*self.gamma*Q_next\n",
    "        loss = 0.5*(self.Q[s_t, a_t] - tf.stop_gradient(TD))**2\n",
    "        return tf.train.GradientDescentOptimizer(self.alpha).minimize(loss)"
   ]
  },
  {
   "cell_type": "code",
   "execution_count": 3,
   "metadata": {},
   "outputs": [],
   "source": [
    "def train(env, agent, T=100000):\n",
    "    sess = tf.Session()\n",
    "    sess.run(tf.global_variables_initializer())\n",
    "    \n",
    "    rewards = []\n",
    "    episode_rewards = 0\n",
    "    \n",
    "    s_t = env.reset()\n",
    "    \n",
    "    for t in range(T):\n",
    "        if t%1000 == 0:\n",
    "            print(f'{100*t/T}%', end='\\r')\n",
    "        a_t = sess.run(agent.act, \n",
    "                       feed_dict={\n",
    "                           agent.s_t_ph:s_t\n",
    "                       }\n",
    "                      )\n",
    "    \n",
    "\n",
    "        s_t_next, r_t, d_t, info = env.step(a_t)\n",
    "        sess.run([agent.update, agent.decay_epsilon], \n",
    "                 feed_dict={\n",
    "                     agent.s_t_ph:s_t,\n",
    "                     agent.a_t_ph:a_t,\n",
    "                     agent.r_t_ph:r_t,\n",
    "                     agent.s_t_next_ph:s_t_next,\n",
    "                     agent.d_t_ph:d_t,\n",
    "                     agent.n_ph:t/T,\n",
    "                 }\n",
    "                )\n",
    "        s_t = s_t_next\n",
    "        episode_rewards += r_t\n",
    "        \n",
    "        if d_t:\n",
    "            rewards.append(episode_rewards)\n",
    "            episode_rewards = 0\n",
    "            s_t = env.reset()\n",
    "\n",
    "    sess.close()\n",
    "    return rewards"
   ]
  },
  {
   "cell_type": "code",
   "execution_count": 4,
   "metadata": {},
   "outputs": [],
   "source": [
    "def plot(data, window=100):\n",
    "    sns.lineplot(\n",
    "        data=data.rolling(window=window).mean()[window-1::window]\n",
    "    )"
   ]
  },
  {
   "cell_type": "code",
   "execution_count": 5,
   "metadata": {},
   "outputs": [
    {
     "name": "stdout",
     "output_type": "stream",
     "text": [
      "WARNING:tensorflow:From /anaconda3/envs/rl-lessons/lib/python3.6/site-packages/tensorflow/python/framework/op_def_library.py:263: colocate_with (from tensorflow.python.framework.ops) is deprecated and will be removed in a future version.\n",
      "Instructions for updating:\n",
      "Colocations handled automatically by placer.\n",
      "99.0%\r"
     ]
    }
   ],
   "source": [
    "env = gym.make(\"FrozenLake-v0\")\n",
    "num_states = env.observation_space.n\n",
    "num_actions = env.action_space.n\n",
    "agent = Agent(num_states, num_actions, alpha=0.8, gamma=0.95, epsilon_i=1.0, epsilon_f=0.0)\n",
    "\n",
    "rewards = train(env, agent, T=100000)"
   ]
  },
  {
   "cell_type": "code",
   "execution_count": 6,
   "metadata": {},
   "outputs": [
    {
     "data": {
      "image/png": "[encoded data removed]",
      "text/plain": [
       "<Figure size 432x288 with 1 Axes>"
      ]
     },
     "metadata": {
      "needs_background": "light"
     },
     "output_type": "display_data"
    }
   ],
   "source": [
    "plot(pd.DataFrame(rewards))"
   ]
  }
 ],
 "metadata": {
  "kernelspec": {
   "display_name": "Python 3",
   "language": "python",
   "name": "python3"
  },
  "language_info": {
   "codemirror_mode": {
    "name": "ipython",
    "version": 3
   },
   "file_extension": ".py",
   "mimetype": "text/x-python",
   "name": "python",
   "nbconvert_exporter": "python",
   "pygments_lexer": "ipython3",
   "version": "3.6.8"
  }
 },
 "nbformat": 4,
 "nbformat_minor": 2
}
