{
 "cells": [
  {
   "cell_type": "code",
   "execution_count": 1,
   "metadata": {},
   "outputs": [],
   "source": [
    "import numpy as np\n",
    "import tensorflow as tf\n",
    "import gym\n",
    "import pandas as pd\n",
    "import seaborn as sns\n",
    "sns.set()"
   ]
  },
  {
   "cell_type": "markdown",
   "metadata": {},
   "source": [
    "# Deep $Q$ networks (DQN)\n",
    "\n",
    "In previous notebooks, we have seen how we can use `tensorflow` and autodifferentiation to do tabular $Q$-learning in the context of a regression problem. While this technique is powerful for environments with small (finite) observation spaces $\\mathcal{S}$ and action spaces $\\mathcal{O}$, we run into problems when our observation space is continuous (or even just large!).\n",
    "\n",
    "Tabular $Q$-learning is only guaranteed to converge if all state-action pairs are visited infinitely many times. In practice, this generally just means a very large number to get a reasonable approximation of the $Q$-function. However, when the observation space becomes large (such as using image inputs), it is likely that we only encounter each state-action pair at most once. Thus, $Q$-learning is not guaranteed to converge.\n",
    "\n",
    "Instead, we want a technique that can estimate $Q$-values such that similar states produce similar outputs. This would allow us to learn from some state-action pairs, and then generalize to other unseen state-action pairs. By using a **differentiable function approximator**, we get this kind of behaviour. Recall that $Q$-learning is a *regression* problem, meaning any kind of regression model could work - even a linear regression. However, the most popular model used by *deep* reinforcement learning researchers is the *deep* neural network.\n",
    "\n",
    "If you are familiar with supervised learning in deep learning, you may be familiar with techniques like dropout, batch normalization, and activity regularization. So far, these kinds of techniques do not prove extremely useful in the context of reinforcement learning. Instead, fully-connected neural networks with a small number of hidden units consisting of rectified linear units tend to perform best. ([Pieter Abbeel](https://www.youtube.com/watch?v=l-mYLq6eZPY) notes that on simple problems, linear feedback control can perform well even in complex environments. Fully-connected neural networks that use ReLU activations function as multi-step piecewise linear feedback controllers, hence their success).\n",
    "\n",
    "When using neural networks, rather than passing many state-action pairs to the network and predicting a scalar $Q(s_t, a_t)$, we pass only the state $s_t$ and produce a vectorized output $\\vec{Q}(s_t)$ where each entry in the vector corresponds to the predicted $Q$-value for each action available to the agent. Note that this necessitates that $\\mathcal{A}$ is finite (and generally small), a limitation of $DQN$ that we will overcome later in the section on policy gradients.\n",
    "\n",
    "![image of deep-q-network mapping single state to multiple outputs](../images/q-network.png)"
   ]
  },
  {
   "cell_type": "markdown",
   "metadata": {},
   "source": [
    "In this notebook, we make use of `tensorflow`'s `keras` API to build neural networks. We also take advantage of **batched environments** to accelerate data collection. The `keras` api build neural networks that process inputs in **batches**. This means that if our observation space for a single environment has a shape $84 \\times 84 \\times 3$, then the network expects inputs of shape $B \\times 84 \\times 84 \\times 3$ where $B$ is the number of inputs in the batch.\n",
    "\n",
    "When running the tabular $Q$-learning agent in `tensorflow` in the previous notebook, runtime was considerably slower than the simply numpy-based agent. The computation time spent evaluating and updating the policy dominated the time to perform a single step/update of the agent, compared to the time spent simulating a step in the environment. Ideally, the time spent should be 50% policy evaluation and 50% environment stepping. By using batched environments, we can even this out. Furthermore, this means that we get more data per wall-clock-time, which will accelerate learning. This will be different from most tutorials which use `keras`, where a single environment is used, and inputs are manipulated to trick keras into treating them like a batch."
   ]
  },
  {
   "cell_type": "code",
   "execution_count": 2,
   "metadata": {},
   "outputs": [],
   "source": [
    "class Network:\n",
    "    def __init__(self, hidden_units):\n",
    "        self.layers = [tf.keras.layers.Dense(units, \n",
    "                                    activation='relu', \n",
    "                                    kernel_initializer='he_uniform', \n",
    "                                    use_bias=False) for units in hidden_units[:-1]]\n",
    "        self.layers.append(tf.keras.layers.Dense(hidden_units[-1],\n",
    "                                                activation='linear',\n",
    "                                                kernel_initializer='zeros',\n",
    "                                                use_bias=False))\n",
    "    \n",
    "    def call(self, x):\n",
    "        for layer in self.layers:\n",
    "            x = layer(x)\n",
    "        return x"
   ]
  },
  {
   "cell_type": "code",
   "execution_count": 3,
   "metadata": {},
   "outputs": [],
   "source": [
    "class Agent:\n",
    "    def __init__(self, state_shape, num_actions, num_envs,\n",
    "                 epsilon_i=1.0, \n",
    "                 epsilon_f=0.0, \n",
    "                 n_epsilon=0.1, \n",
    "                 alpha=0.5, \n",
    "                 gamma = 0.95,\n",
    "                 hidden_units = []\n",
    "                ):\n",
    "        \n",
    "        tf.reset_default_graph()\n",
    "        \n",
    "        self.epsilon_i = epsilon_i\n",
    "        self.epsilon_f = epsilon_f\n",
    "        self.epsilon = tf.get_variable(\"epsilon\", initializer=tf.constant(self.epsilon_i))\n",
    "        self.n_epsilon = n_epsilon\n",
    "        self.state_shape = state_shape\n",
    "        self.num_actions = num_actions\n",
    "        self.num_envs = num_envs\n",
    "        self.alpha = alpha\n",
    "        self.gamma = gamma\n",
    "\n",
    "        self.s_t_ph = tf.placeholder(shape=(None, *state_shape), dtype=tf.float32, name=\"state\")\n",
    "        self.a_t_ph = tf.placeholder(shape=(None, ), dtype=tf.int32, name=\"action\")\n",
    "        self.r_t_ph = tf.placeholder(shape=(None, ), dtype=tf.float32, name=\"reward\")\n",
    "        self.s_t_next_ph = tf.placeholder(shape=(None, *state_shape), dtype=tf.float32, name=\"next_state\")\n",
    "        self.d_t_ph = tf.placeholder(shape=(None, ), dtype=tf.float32, name=\"done\")\n",
    "        self.n_ph = tf.placeholder(shape=(), dtype=tf.float32, name=\"n\")\n",
    "        \n",
    "        self.Q = Network(hidden_units+[self.num_actions])\n",
    "\n",
    "        self.decay_epsilon = self.decay_epsilon_tf(self.n_ph)\n",
    "        self.act = self.act_tf(self.s_t_ph)\n",
    "        self.update = self.update_tf(self.s_t_ph, self.a_t_ph, self.r_t_ph, self.s_t_next_ph, self.d_t_ph)\n",
    "        \n",
    "    def decay_epsilon_tf(self, n):\n",
    "        return tf.assign(self.epsilon, tf.maximum(\n",
    "            self.epsilon_f, \n",
    "            self.epsilon_i - (n/self.n_epsilon)*(self.epsilon_i - self.epsilon_f)))\n",
    "    \n",
    "    def act_tf(self, s_t):\n",
    "        return tf.where(tf.random_uniform(shape=(self.num_envs, ), minval=0, maxval=1, dtype=tf.float32) < self.epsilon,\n",
    "                      tf.random_uniform(shape=(self.num_envs, ), minval=0, maxval=self.num_actions, dtype=tf.int32) ,\n",
    "                      tf.argmax(self.Q.call(s_t), output_type=tf.int32, axis=1))\n",
    "    \n",
    "    def update_tf(self, s_t, a_t, r_t, s_t_next, d_t):\n",
    "        Q_next = tf.reduce_max(self.Q.call(s_t_next), axis=1)\n",
    "        TD = r_t + (1-d_t)*self.gamma*Q_next\n",
    "        Q_pred = tf.reduce_sum(self.Q.call(s_t) * tf.one_hot(a_t, self.num_actions), axis=1)\n",
    "        loss = tf.reduce_mean(0.5*(Q_pred - tf.stop_gradient(TD))**2)\n",
    "        return tf.train.GradientDescentOptimizer(self.alpha).minimize(loss)"
   ]
  },
  {
   "cell_type": "code",
   "execution_count": 4,
   "metadata": {},
   "outputs": [],
   "source": [
    "def train(env, agent, T=100000):\n",
    "    \n",
    "    sess = tf.Session()\n",
    "    sess.run(tf.global_variables_initializer())\n",
    "    \n",
    "    rewards = []\n",
    "    episode_rewards = 0\n",
    "    \n",
    "    s_t = env.reset()\n",
    "    \n",
    "    for t in range(T):\n",
    "        if t%1000 == 0:\n",
    "            print(f'{100*t/T}%', end='\\r')\n",
    "        a_t = sess.run(agent.act, \n",
    "                       feed_dict={\n",
    "                           agent.s_t_ph:s_t\n",
    "                       }\n",
    "                      )   \n",
    "\n",
    "        s_t_next, r_t, d_t, info = env.step(a_t)\n",
    "        sess.run([agent.update, agent.decay_epsilon], \n",
    "                 feed_dict={\n",
    "                     agent.s_t_ph:s_t,\n",
    "                     agent.a_t_ph:a_t,\n",
    "                     agent.r_t_ph:r_t,\n",
    "                     agent.s_t_next_ph:s_t_next,\n",
    "                     agent.d_t_ph:d_t,\n",
    "                     agent.n_ph:t/T,\n",
    "                 }\n",
    "                )\n",
    "        s_t = s_t_next\n",
    "        episode_rewards += r_t\n",
    "        \n",
    "        for env_index in range(env.num_envs):\n",
    "            if d_t[env_index]:\n",
    "                rewards.append(episode_rewards[env_index])\n",
    "                episode_rewards[env_index] = 0\n",
    "                s_t[env_index] = env.reset_at(env_index)\n",
    "            \n",
    "    sess.close()\n",
    "    return rewards"
   ]
  },
  {
   "cell_type": "code",
   "execution_count": 5,
   "metadata": {},
   "outputs": [],
   "source": [
    "def plot(data, window=100):\n",
    "    sns.lineplot(\n",
    "        data=data.rolling(window=window).mean()[window-1::window]\n",
    "    )"
   ]
  },
  {
   "cell_type": "code",
   "execution_count": 6,
   "metadata": {},
   "outputs": [],
   "source": [
    "class DiscreteToBoxWrapper(gym.ObservationWrapper):\n",
    "    def __init__(self, env):\n",
    "        super().__init__(env)\n",
    "        assert isinstance(env.observation_space, gym.spaces.Discrete), \\\n",
    "            \"Should only be used to wrap Discrete envs.\"\n",
    "        self.n = self.observation_space.n\n",
    "        self.observation_space = gym.spaces.Box(0, 1, (self.n,))\n",
    "    \n",
    "    def observation(self, obs):\n",
    "        new_obs = np.zeros(self.n)\n",
    "        new_obs[obs] = 1\n",
    "        return new_obs"
   ]
  },
  {
   "cell_type": "code",
   "execution_count": 7,
   "metadata": {},
   "outputs": [],
   "source": [
    "class VectorizedEnvWrapper(gym.Wrapper):\n",
    "    def __init__(self, make_env, num_envs=1):\n",
    "        super().__init__(make_env())\n",
    "        self.num_envs = num_envs\n",
    "        self.envs = [make_env() for env_index in range(num_envs)]\n",
    "    \n",
    "    def reset(self):\n",
    "        return np.asarray([env.reset() for env in self.envs])\n",
    "    \n",
    "    def reset_at(self, env_index):\n",
    "        return self.envs[env_index].reset()\n",
    "    \n",
    "    def step(self, actions):\n",
    "        next_states, rewards, dones, infos = [], [], [], []\n",
    "        for env, action in zip(self.envs, actions):\n",
    "            next_state, reward, done, info = env.step(action)\n",
    "            next_states.append(next_state)\n",
    "            rewards.append(reward)\n",
    "            dones.append(done)\n",
    "            infos.append(info)\n",
    "        return np.asarray(next_states), np.asarray(rewards), \\\n",
    "            np.asarray(dones), np.asarray(infos)"
   ]
  },
  {
   "cell_type": "markdown",
   "metadata": {},
   "source": [
    "By using a single environment with a one-hot encoding, our program actually replicates tabular $Q$-learning! The neural network consists of a single `Dense` layer with no bias and an all-zero initializer, and the matrix multiplication with a one-hot encoding of the state is essentially analogous to indexing the $Q$-table (though if you actually check the math, you will find that the $Q$-table and the weight matrix for the `Dense` layer are transposes of eachother).\n",
    "\n",
    "We can actually improve performance slightly by increasing the number of environments, which allows us to decrease the training time."
   ]
  },
  {
   "cell_type": "code",
   "execution_count": 8,
   "metadata": {},
   "outputs": [
    {
     "name": "stdout",
     "output_type": "stream",
     "text": [
      "WARNING:tensorflow:From /anaconda3/envs/rl-lessons/lib/python3.6/site-packages/tensorflow/python/framework/op_def_library.py:263: colocate_with (from tensorflow.python.framework.ops) is deprecated and will be removed in a future version.\n",
      "Instructions for updating:\n",
      "Colocations handled automatically by placer.\n",
      "WARNING:tensorflow:From /anaconda3/envs/rl-lessons/lib/python3.6/site-packages/tensorflow/python/ops/math_ops.py:3066: to_int32 (from tensorflow.python.ops.math_ops) is deprecated and will be removed in a future version.\n",
      "Instructions for updating:\n",
      "Use tf.cast instead.\n",
      "95.0%\r"
     ]
    }
   ],
   "source": [
    "num_envs = 10\n",
    "make_env = lambda: DiscreteToBoxWrapper(gym.make(\"FrozenLake-v0\"))\n",
    "env = VectorizedEnvWrapper(make_env, num_envs=num_envs)\n",
    "state_shape = env.observation_space.shape\n",
    "num_actions = env.action_space.n\n",
    "agent = Agent(state_shape, num_actions, num_envs, alpha=0.8, gamma=0.95, epsilon_i=1.0, epsilon_f=0.0)\n",
    "\n",
    "rewards = train(env, agent, T=20000)"
   ]
  },
  {
   "cell_type": "code",
   "execution_count": 9,
   "metadata": {},
   "outputs": [
    {
     "data": {
      "image/png": "[encoded data removed]",
      "text/plain": [
       "<Figure size 432x288 with 1 Axes>"
      ]
     },
     "metadata": {
      "needs_background": "light"
     },
     "output_type": "display_data"
    }
   ],
   "source": [
    "plot(pd.DataFrame(rewards))"
   ]
  }
 ],
 "metadata": {
  "kernelspec": {
   "display_name": "Python 3",
   "language": "python",
   "name": "python3"
  },
  "language_info": {
   "codemirror_mode": {
    "name": "ipython",
    "version": 3
   },
   "file_extension": ".py",
   "mimetype": "text/x-python",
   "name": "python",
   "nbconvert_exporter": "python",
   "pygments_lexer": "ipython3",
   "version": "3.6.8"
  }
 },
 "nbformat": 4,
 "nbformat_minor": 2
}
