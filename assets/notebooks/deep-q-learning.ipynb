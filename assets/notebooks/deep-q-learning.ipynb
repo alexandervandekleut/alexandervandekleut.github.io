{
 "cells": [
  {
   "cell_type": "markdown",
   "metadata": {},
   "source": [
    "***\n",
    "# Deep $Q$-Learning\n",
    "\n",
    "In our previous notebook, we learned about $Q$-learning. This is an algorithm that learns the expected discounted returns of choosing certain actions $a_t$ in certain states $s_t$. We did this by initializing a **table** of $Q$-values of size $\\lvert \\mathcal{S} \\rvert \\times \\lvert \\mathcal{A} \\rvert$, so that for any state-action pair $(s_t, a_t)$ we had a prediction for its $Q$ value. The difficulty arises when $\\mathcal{S}$ is continuous (can take on infinite values). In these cases, our `gym` environment would have a `Box` type for its `observation_space`. Since we generally will only visit any state-action pair once, a tabular approach is impossible.\n",
    "\n",
    "***\n",
    "### Function Appoximators\n",
    "\n",
    "In these cases, we instead use a **function approximator** for $Q$. The idea is that if we have a good guess for what $Q(s_t, a_t)$ is, then we should be able to predict $Q(s_t, a_t)$ for similar states and actions, even if we have never seen that state-action pair before. A **differentiable** function approximator is exactly that: a function that gives similar outputs given similar inputs.\n",
    "\n",
    "There are many differentiable function approximators. You have have heard of linear regressions and logistic regressions. We can abstractly define a function approximator as a set of parameters $\\theta$. For example, in a simple quadratic regression of the form\n",
    "$$\n",
    "\\hat{y} = a x^2 + b x + c\n",
    "$$\n",
    "we would have $\\theta = \\left[ a, b, c \\right]$.\n",
    "\n",
    "***\n",
    "### Gradient Descent and Loss Functions\n",
    "When a function approximator is differentiable, we have an additional tool at our disposal: **gradient descent**. Gradient descent is a tool for optimizing any differentiable function. The **gradient** of a function $f$ with respect to some parameters $\\theta$ is denoted $\\nabla_\\theta f$, and is a vector of partial derivatives of $f$ with respect to each variable in $\\theta$. For example, $\\nabla_\\theta \\hat{y}$ would be\n",
    "$$\n",
    "\\begin{bmatrix}\n",
    "x^2 \\\\\n",
    "x \\\\\n",
    "1\n",
    "\\end{bmatrix}\n",
    "$$\n",
    "\n",
    "Imagine some dataset $(X, Y)$ that we are interested in modelling, and we have a suspicion that the relationship between $X$ and $Y$ is quadratic. Then we can use a function like the one described above ($ax^2 + bx + c$) to try to model the dataset.\n",
    "\n",
    "Given a data point $(x, y)$, we want the difference between our functions output $\\hat{y}$ and the true value $y$ to be small. We use the *squared-error* to measure this difference: $\\left(y - \\hat{y} \\right)^2$. If our function approximator $\\theta$ *minimizes* the average squared error over all data points, then we say our function successfully models the data.\n",
    "\n",
    "We define a **loss function** with respect to the model parameters $\\theta$ that we want to minimize. In accordance with our description above, we get:\n",
    "$$\n",
    "L(\\theta) = \\frac{1}{N} \\sum_{(x, y) \\in (X, Y)} \\left(\\hat{y} - y \\right)^2\n",
    "$$\n",
    "where $N$ is the size of the dataset and $\\hat{y} = ax^2 + bx + c $.\n",
    "\n",
    "We can iteratively modify our paramaters $\\theta$ so as to minimize this loss function. If we take the gradient of the loss function with respect to $\\theta$ and we subtract that from $\\theta$, then we get new values for $\\theta$ such that the value $L(\\theta)$ is smaller. This gives us **gradient descent**:\n",
    "$$\n",
    "\\theta \\gets \\theta + \\alpha \\nabla_\\theta L(\\theta)\n",
    "$$\n",
    "where $\\alpha$ is a factor called the **learning rate** that determines how much we change the network parameters with each application of gradient descent. We perform gradient descent for a given number of **epochs** until we are satisfied that our function does a good approximation.\n",
    "\n",
    "In this case, we can easily analytically compute this:\n",
    "$$\n",
    "\\nabla_\\theta L(\\theta) = \\frac{1}{N} \\sum_{(x, y) \\in (X, Y)} 2(\\hat{y} - y) \\nabla_{\\theta} \\hat{y}\n",
    "$$\n",
    "\n",
    "where $\\nabla_\\theta \\hat{y}$ is as descibed above."
   ]
  },
  {
   "cell_type": "code",
   "execution_count": 1,
   "metadata": {},
   "outputs": [],
   "source": [
    "import numpy as np\n",
    "import seaborn as sns\n",
    "import pandas as pd\n",
    "import matplotlib.pyplot as plt\n",
    "sns.set()"
   ]
  },
  {
   "cell_type": "code",
   "execution_count": 2,
   "metadata": {},
   "outputs": [],
   "source": [
    "def plot(X, Y, Y_hat):\n",
    "    data = pd.DataFrame({\"X\":X, \"Y\":Y, \"Y_hat\":Y_hat})\n",
    "    sns.scatterplot(x=\"X\", y=\"Y\", data=data)\n",
    "    plt.plot(X, Y_hat, color=\"orange\")\n",
    "    plt.show()"
   ]
  },
  {
   "cell_type": "code",
   "execution_count": 3,
   "metadata": {},
   "outputs": [],
   "source": [
    "N = 50\n",
    "a, b, c = 2, -1, 4\n",
    "X = np.linspace(-1, 1, N)\n",
    "Y = a*X**2 + b*X + c + np.random.randn(N)*0.1"
   ]
  },
  {
   "cell_type": "code",
   "execution_count": 4,
   "metadata": {},
   "outputs": [],
   "source": [
    "theta = np.random.rand(3) # a, b, c estimates\n",
    "Y_hat = theta[0]*X**2 + theta[1]*X + theta[2]"
   ]
  },
  {
   "cell_type": "code",
   "execution_count": 5,
   "metadata": {},
   "outputs": [
    {
     "data": {
      "image/png": "[encoded data removed]",
      "text/plain": [
       "<Figure size 432x288 with 1 Axes>"
      ]
     },
     "metadata": {
      "needs_background": "light"
     },
     "output_type": "display_data"
    }
   ],
   "source": [
    "plot(X, Y, Y_hat)"
   ]
  },
  {
   "cell_type": "code",
   "execution_count": 6,
   "metadata": {},
   "outputs": [],
   "source": [
    "def learn(X, Y, theta, alpha=1e-1, epochs=100):\n",
    "    N = len(X)\n",
    "    for e in range(epochs):\n",
    "        Y_hat = theta[0]*(X**2) + theta[1]*X + theta[2] # predictions\n",
    "        nabla_theta_y_hat = np.array([\n",
    "            X**2,\n",
    "            X,\n",
    "            np.ones(N)\n",
    "        ])\n",
    "        nabla_theta_L = np.mean(2*(Y_hat - Y)*nabla_theta_y_hat, axis=1) # take the average over all datapoints\n",
    "        \n",
    "        theta = theta - alpha*nabla_theta_L # gradient descent\n",
    "    return theta"
   ]
  },
  {
   "cell_type": "code",
   "execution_count": 7,
   "metadata": {},
   "outputs": [],
   "source": [
    "learned_theta = learn(X, Y, theta)\n",
    "Y_hat = learned_theta[0]*X**2 + learned_theta[1]*X + learned_theta[2]"
   ]
  },
  {
   "cell_type": "code",
   "execution_count": 8,
   "metadata": {},
   "outputs": [
    {
     "data": {
      "image/png": "[encoded data removed]",
      "text/plain": [
       "<Figure size 432x288 with 1 Axes>"
      ]
     },
     "metadata": {
      "needs_background": "light"
     },
     "output_type": "display_data"
    }
   ],
   "source": [
    "plot(X, Y, Y_hat)"
   ]
  },
  {
   "cell_type": "markdown",
   "metadata": {},
   "source": [
    "***\n",
    "### $Q$-learning as a Regression Problem\n",
    "\n",
    "When we first learned about $Q$-learning, we used the Bellman equation to learn the $Q$ function:\n",
    "$$\n",
    "Q(s_t, a_t) \\gets Q(s_t, a_t) - \\alpha \\left(r_t + \\gamma Q(s_{t+1}, a_{t+1}) - Q(s_t, a_t) \\right)\n",
    "$$\n",
    "\n",
    "Compare this to gradient descent for a regression problem:\n",
    "$$\n",
    "\\theta \\gets \\theta - \\alpha 2 \\left( \\hat{y} - y \\right) \\nabla_\\theta \\hat{y}\n",
    "$$\n",
    "\n",
    "These methods are essentially analogous: we update parameters about our function in a manner proportional to the difference between our prediction and the 'true' value. The difference for tabular $Q$-learning is that we essentially have a different parameter for each state-action pair.\n",
    "\n",
    "***\n",
    "### Tensorflow and Autodifferentiation\n",
    "\n",
    "It can be extremely cumbersome to manually compute the derivative of our functions. It becomes much more complex when our functions are highly composed, where we combine the results of many intermediate calculations to produce our result. Instead, we can rely on libraries that provide **autodifferentiation**. There are many approaches to autodifferentiation, with the notion of a 'gradient tape' being used in [`tensorflow 2`](https://www.tensorflow.org/alpha) and [`pytorch`](https://pytorch.org/). Most guides, resources and open-source implementations that you will find today are built using `tensorflow`, a python library that allows us to define complex **computation graphs** with built-in differentiation. Tensorflow is preferred for many reasons (though the gap may be closing), but using computation graphs can feel weird to a new user."
   ]
  },
  {
   "cell_type": "code",
   "execution_count": 9,
   "metadata": {},
   "outputs": [],
   "source": [
    "import tensorflow as tf"
   ]
  },
  {
   "cell_type": "markdown",
   "metadata": {},
   "source": [
    "Tensorflow has [extensive documentation](https://www.tensorflow.org/guide/low_level_intro) that I suggest you spend some time reading, since my goal is not to reproduce the tensorflow guide here. I assume you have a basic understanding of how tensorflow works.\n",
    "\n",
    "Let us first demonstrate the above regression problem using tensorflow before moving into more complex territory."
   ]
  },
  {
   "cell_type": "code",
   "execution_count": 10,
   "metadata": {},
   "outputs": [],
   "source": [
    "N = 50\n",
    "a, b, c = 2, -1, 4\n",
    "X = np.linspace(-1, 1, N)\n",
    "Y = a*X**2 + b*X + c + np.random.randn(N)*0.1"
   ]
  },
  {
   "cell_type": "code",
   "execution_count": 11,
   "metadata": {},
   "outputs": [
    {
     "name": "stdout",
     "output_type": "stream",
     "text": [
      "WARNING:tensorflow:From /Users/admin/anaconda3/envs/rl-lessons/lib/python3.6/site-packages/tensorflow/python/framework/op_def_library.py:263: colocate_with (from tensorflow.python.framework.ops) is deprecated and will be removed in a future version.\n",
      "Instructions for updating:\n",
      "Colocations handled automatically by placer.\n"
     ]
    }
   ],
   "source": [
    "X_ph = tf.placeholder(shape=(50,), dtype=tf.float32) # a placeholder for values, that we will later feed X into\n",
    "theta = tf.get_variable(\"theta\", initializer=tf.random_normal(shape=(3,))) # our parameters\n",
    "Y_hat = theta[0]*(X_ph**2) + theta[1]*X_ph + theta[2] # our prediction"
   ]
  },
  {
   "cell_type": "code",
   "execution_count": 12,
   "metadata": {},
   "outputs": [],
   "source": [
    "sess = tf.Session() # used to give tensors in the computation graph values\n",
    "sess.run(tf.global_variables_initializer()) # initialize defined ops and variables\n",
    "\n",
    "Y_hat_run = sess.run(Y_hat, \n",
    "                    feed_dict = {\n",
    "                        X_ph: X\n",
    "                    }) # get initial predictions"
   ]
  },
  {
   "cell_type": "code",
   "execution_count": 13,
   "metadata": {},
   "outputs": [
    {
     "data": {
      "image/png": "[encoded data removed]",
      "text/plain": [
       "<Figure size 432x288 with 1 Axes>"
      ]
     },
     "metadata": {
      "needs_background": "light"
     },
     "output_type": "display_data"
    }
   ],
   "source": [
    "plot(X, Y, Y_hat_run)"
   ]
  },
  {
   "cell_type": "code",
   "execution_count": 14,
   "metadata": {},
   "outputs": [],
   "source": [
    "L_theta = tf.reduce_mean((Y - Y_hat)**2) # same loss as before\n",
    "alpha = 1e-1 # learning rate\n",
    "optimizer = tf.train.GradientDescentOptimizer(alpha).minimize(L_theta) # autodifferentiation!"
   ]
  },
  {
   "cell_type": "code",
   "execution_count": 15,
   "metadata": {},
   "outputs": [],
   "source": [
    "epochs = 100\n",
    "for e in range(epochs):\n",
    "    sess.run([theta, L_theta, optimizer], \n",
    "            feed_dict = {\n",
    "                X_ph:X\n",
    "            }) # run the autodiff optimizer"
   ]
  },
  {
   "cell_type": "code",
   "execution_count": 16,
   "metadata": {},
   "outputs": [],
   "source": [
    "Y_hat_run = sess.run(Y_hat, \n",
    "                    feed_dict = {\n",
    "                        X_ph: X\n",
    "                    }) # get new predictions"
   ]
  },
  {
   "cell_type": "code",
   "execution_count": 17,
   "metadata": {},
   "outputs": [
    {
     "data": {
      "image/png": "[encoded data removed]",
      "text/plain": [
       "<Figure size 432x288 with 1 Axes>"
      ]
     },
     "metadata": {
      "needs_background": "light"
     },
     "output_type": "display_data"
    }
   ],
   "source": [
    "plot(X, Y, Y_hat_run)"
   ]
  },
  {
   "cell_type": "markdown",
   "metadata": {},
   "source": [
    "### FrozenLake with Tensorflow\n",
    "\n",
    "Before diving deep into using techniques like deep neural networks, I want to show you how we might do $Q$-learning in tensorflow using the same `FrozenLake-v0` environment from earlier.\n",
    "\n",
    "We make many changes: rather than calling functions like `act()` and `update()`, instead we make this functionality available as a tensorflow op that is a member variable of the class. This way, we can do things like `sess.run(agent.update, ...` to update, rather than call `agent.update()`.\n",
    "\n",
    "Tensorflow requires a different kind of understanding of a program. Every statement in a normal python program (`if-else` blocks, assignment, indexing an array, etc) should be converted into an equivalent tensorflow op, so that the entire computation graph represents the program in an abstract way. For now, this may seem unnecessarily obtuse, but the truth is that when we get into more advanced techniques, it will be advantageous for us to define as much of the program in tensorflow as possible."
   ]
  },
  {
   "cell_type": "code",
   "execution_count": 18,
   "metadata": {},
   "outputs": [],
   "source": [
    "class Agent:\n",
    "    def __init__(self, num_states, num_actions, epsilon_i=1.0, epsilon_f=0.0, n_epsilon=10000, alpha=0.1, gamma = 0.99):\n",
    "        self.epsilon_i = tf.constant(epsilon_i, dtype=tf.float32) # initial epsilon value\n",
    "        self.epsilon_f = tf.constant(epsilon_f, dtype=tf.float32) # final epsilon value\n",
    "        self.epsilon = tf.get_variable(\"epsilon\", initializer=tf.constant(epsilon_i, dtype=tf.float32)) # current epsilon value\n",
    "        self.n_epsilon = tf.constant(n_epsilon, dtype=tf.float32) # number of timesteps over which to decay epsilon\n",
    "        self.num_states = tf.constant(num_states, dtype=tf.int32)\n",
    "        self.num_actions = tf.constant(num_actions, dtype=tf.int32)\n",
    "        self.alpha = tf.constant(alpha, dtype=tf.float32) # learning rate\n",
    "        self.gamma = tf.constant(gamma, dtype=tf.float32) # discount factor\n",
    "        self.Q = tf.get_variable(\"Q\", initializer = tf.zeros(shape=(num_states, num_actions))) # initial Q values as a table\n",
    "        \n",
    "        self.s_t_ph = s_t = tf.placeholder(dtype=tf.int32, shape=(), name=\"s_t_ph\") # placeholder for states, which is needed to predict Q values\n",
    "        \n",
    "        ### act ###\n",
    "        p = tf.random_uniform(shape=(), minval=0, maxval=1, dtype=tf.float32) # random number, equivalent to np.random.rand()\n",
    "        \n",
    "        # tf.cond is the tensorflow version of an if statement as an op, which has a condition, a function that returns tensorflow ops corresponding to if the condition is true, and a function that returns tensorflow ops corresponding to if the condition is false\n",
    "        self.act = tf.cond(p < self.epsilon, # epsilon-greedy\n",
    "                          lambda: tf.random_uniform(shape=(), minval=0, maxval=self.num_actions, dtype=tf.int32), # random action. using tf.int32 makes it return integers\n",
    "                          lambda: tf.argmax(self.Q[s_t], output_type=tf.int32)) # greedy policy\n",
    "        \n",
    "        ### update ###\n",
    "        self.r_t_ph = r_t =tf.placeholder(dtype=tf.float32, shape=(), name=\"r_t_ph\") # equivalent to the r_t parameter in agent.update(...)\n",
    "        self.a_t_ph = a_t = tf.placeholder(dtype=tf.int32, shape=(), name=\"a_t_ph\") # equivalent to the a_t_next parameter in agent.update(...)\n",
    "        self.s_t_next_ph = s_t_next = tf.placeholder(dtype=tf.int32, shape=(), name=\"s_t_next_ph\") # equivalent to the s_t_next parameter in agent.update(...)\n",
    "        a_t_next = tf.cond(p < self.epsilon, # epsilon-greedy\n",
    "                          lambda: tf.random_uniform(shape=(), minval=0, maxval=self.num_actions, dtype=tf.int32), # random action\n",
    "                          lambda: tf.argmax(self.Q[s_t_next], output_type=tf.int32)) # greedy policy. we need to define it like we defined self.act.\n",
    "        \n",
    "        TD = r_t + self.gamma*self.Q[s_t_next, a_t_next] # the TD-target\n",
    "        TD = tf.stop_gradient(TD) # treat the TD-target as a constant when using autodifferentiation\n",
    "        predicted_Q = self.Q[s_t, a_t] # our prediction for Q\n",
    "        self.loss = (TD - predicted_Q)**2 # the squared error between our prediction and the TD target\n",
    "        self.update = tf.train.GradientDescentOptimizer(self.alpha).minimize(self.loss) # use gradient descent to minimize the regression loss\n",
    "        \n",
    "        ### decay_epsilon ###\n",
    "        self.decay_epsilon = tf.assign(self.epsilon, # tensorflow op for assigning values to a variable\n",
    "                                      tf.maximum( \n",
    "                                          self.epsilon_f, # if epsilon_f is bigger, use that\n",
    "                                          self.epsilon - (self.epsilon_i - self.epsilon_f)/self.n_epsilon) # otherwise decay epsilon\n",
    "                                      )"
   ]
  },
  {
   "cell_type": "code",
   "execution_count": 19,
   "metadata": {},
   "outputs": [],
   "source": [
    "import gym\n",
    "env = gym.make(\"FrozenLake-v0\")"
   ]
  },
  {
   "cell_type": "code",
   "execution_count": 20,
   "metadata": {},
   "outputs": [],
   "source": [
    "num_states = env.observation_space.n\n",
    "num_actions = env.action_space.n\n",
    "agent = Agent(num_states, num_actions)"
   ]
  },
  {
   "cell_type": "markdown",
   "metadata": {},
   "source": [
    "Our agent will be run using the same parameters as the one from the original $Q$-learning notebook. However, for now, this will take significantly longer than just using numpy alone.  We are making calls to `sess.run` but we are not doing a signicant amount of work, making the calls relatively expensive compared to the amount of work that they are doing. We will see later that the more work that is done in a `sess.run` call, the more efficient it becomes. Be patient as the following cell will likely take a few minutes to run."
   ]
  },
  {
   "cell_type": "code",
   "execution_count": 21,
   "metadata": {},
   "outputs": [],
   "source": [
    "with tf.Session() as sess:\n",
    "    sess.run(tf.global_variables_initializer()) # once we define ops and create our agent, the tensorflow computation graph exists but doesn't have values yet. This gives the abstractly defined operations and variables actual values.\n",
    "    T = 100000\n",
    "    s_t = env.reset()\n",
    "\n",
    "    rewards = []\n",
    "\n",
    "    for t in range(T):\n",
    "        a_t = sess.run(agent.act, \n",
    "                       feed_dict = {\n",
    "                            agent.s_t_ph: s_t\n",
    "        }) # choose an action by running the tensorflow op a_t, passing in the value for s_t into its placeholder s_t_ph\n",
    "\n",
    "        s_t_next, r_t, done, info = env.step(a_t)\n",
    "        \n",
    "        sess.run(agent.update,\n",
    "                feed_dict = {\n",
    "                    agent.s_t_ph:s_t,\n",
    "                    agent.a_t_ph:a_t,\n",
    "                    agent.s_t_next_ph:s_t_next,\n",
    "                    agent.r_t_ph:r_t\n",
    "                }) # minimize the difference between the prediction and the TD target, passing in the values for s_t, a_t, s_t_next and r_t into their respective placeholders\n",
    "        sess.run(agent.decay_epsilon) # decay epsilon by running the tf op for it\n",
    "        s_t = s_t_next\n",
    "\n",
    "        if done:\n",
    "            rewards.append(r_t)\n",
    "            s_t = env.reset()"
   ]
  },
  {
   "cell_type": "code",
   "execution_count": 23,
   "metadata": {},
   "outputs": [
    {
     "data": {
      "text/plain": [
       "<matplotlib.axes._subplots.AxesSubplot at 0x1a43aa29e8>"
      ]
     },
     "execution_count": 23,
     "metadata": {},
     "output_type": "execute_result"
    },
    {
     "data": {
      "image/png": "[encoded data removed]",
      "text/plain": [
       "<Figure size 432x288 with 1 Axes>"
      ]
     },
     "metadata": {
      "needs_background": "light"
     },
     "output_type": "display_data"
    }
   ],
   "source": [
    "rewards = np.asarray(rewards)\n",
    "window = 100\n",
    "running_mean_rewards = pd.Series(rewards, name='q-learning').rolling(window=window).mean()[window-1:] # this slicing is because the first window-1 elements are NaN from the rolling operation.\n",
    "sns.lineplot(data=running_mean_rewards)"
   ]
  },
  {
   "cell_type": "markdown",
   "metadata": {},
   "source": [
    "It is *always* a good idea to ensure that your agent is performing better than random. We can essentially run the same loop, but choosing random actions each time."
   ]
  },
  {
   "cell_type": "code",
   "execution_count": 25,
   "metadata": {},
   "outputs": [],
   "source": [
    "T = 100000\n",
    "s_t = env.reset()\n",
    "\n",
    "random_rewards = []\n",
    "\n",
    "for t in range(T):\n",
    "    a_t = env.action_space.sample()\n",
    "    s_t, r_t, done, info = env.step(a_t)\n",
    "    \n",
    "    if done:\n",
    "        random_rewards.append(r_t)\n",
    "        s_t = env.reset()"
   ]
  },
  {
   "cell_type": "code",
   "execution_count": 26,
   "metadata": {},
   "outputs": [],
   "source": [
    "random_rewards = np.asarray(random_rewards)[:len(rewards)] # make sure random_rewards is the same length as rewards. It will generally be much longer, since it will die more frequently causing more rewards to be stored given the same budget of timesteps.\n",
    "window = 100\n",
    "running_mean_random_rewards = pd.Series(random_rewards, name='random').rolling(window=window).mean()[window-1:]"
   ]
  },
  {
   "cell_type": "code",
   "execution_count": 27,
   "metadata": {},
   "outputs": [],
   "source": [
    "compare = pd.concat((running_mean_random_rewards, running_mean_rewards), axis=1) # generate one dataframe holding the terminal rewards from the q-learning agent and the random agent."
   ]
  },
  {
   "cell_type": "code",
   "execution_count": 28,
   "metadata": {},
   "outputs": [
    {
     "data": {
      "text/plain": [
       "<matplotlib.axes._subplots.AxesSubplot at 0x1a43b0a518>"
      ]
     },
     "execution_count": 28,
     "metadata": {},
     "output_type": "execute_result"
    },
    {
     "data": {
      "image/png": "[encoded data removed]",
      "text/plain": [
       "<Figure size 432x288 with 1 Axes>"
      ]
     },
     "metadata": {
      "needs_background": "light"
     },
     "output_type": "display_data"
    }
   ],
   "source": [
    "sns.lineplot(data=compare)"
   ]
  },
  {
   "cell_type": "markdown",
   "metadata": {},
   "source": [
    "I encourage you to compare the definition and running of this program with the one in the earlier $Q$-learning notebook to get a good grasp on the fundamental differences between using libraries like `numpy` directly, versus using `tensorflow`."
   ]
  },
  {
   "cell_type": "markdown",
   "metadata": {},
   "source": [
    "***\n",
    "### Deep $Q$-learning\n",
    "\n",
    "We have spent the time to learn about differentiable function approximators, $Q$-learning as a regression problem, and autodifferentiation in `tensorflow` for optimization. We have also now seen a complete `tensorflow` program that demonstrates tabular $Q$-learning, using the idea of $Q$-learning as a regression problem. Finally, we are ready to approach **deep $Q$-learning**: using **deep neural networks** to learn the $Q$-function.\n",
    "\n",
    "Whereas in tabular $Q$-learning, we provide state-action pairs $(s_t, a_t)$ and produce a scalar $Q(s_t, a_t)$ for each one, in deep $Q$-learning we take a different approach. When using neural networks, it is trivial to change the output from a single (scalar) value to multiple (vector) values. Thus, we can define a neural network that accepts as input a state $s_t$ and produces as output a vector of $Q$ values, with each entry in the vector corresponding to an action the agent can take.\n",
    "![Q-network](../images/)"
   ]
  },
  {
   "cell_type": "code",
   "execution_count": null,
   "metadata": {},
   "outputs": [],
   "source": []
  }
 ],
 "metadata": {
  "kernelspec": {
   "display_name": "Python 3",
   "language": "python",
   "name": "python3"
  },
  "language_info": {
   "codemirror_mode": {
    "name": "ipython",
    "version": 3
   },
   "file_extension": ".py",
   "mimetype": "text/x-python",
   "name": "python",
   "nbconvert_exporter": "python",
   "pygments_lexer": "ipython3",
   "version": "3.6.8"
  }
 },
 "nbformat": 4,
 "nbformat_minor": 2
}
