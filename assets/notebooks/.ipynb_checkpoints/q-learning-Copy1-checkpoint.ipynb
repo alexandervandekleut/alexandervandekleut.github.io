{
 "cells": [
  {
   "cell_type": "markdown",
   "metadata": {},
   "source": [
    "***\n",
    "# Q-learning\n",
    "\n",
    "***\n",
    "### Value Function\n",
    "Recall the definition of the **value function** $V(s_t)$:\n",
    "\n",
    "$$\n",
    "V(s_t) = \\mathbb{E} \\left[ G_t \\vert s_t \\right]\n",
    "$$\n",
    "\n",
    "In an MDP, our expected discounted return $G_t$ depends on the trajectories $\\tau$ that we generate. Whereas in a Markov process or Markov reward process this depends only on the underlying state dynamics, in an MDP, trajectories also depend on the actions that we choose. Since these actions are determined by our **policy** $\\pi$, we write the following:\n",
    "\n",
    "$$\n",
    "V^\\pi (s_t) = \\mathbb{E}_\\pi \\left[ G_t \\vert s_t \\right]\n",
    "$$\n",
    "\n",
    "that is, given that we are currently in state $s_t$, what value should we expect our discounted return $G_t$ to be, given that we generate trajectories according to our policy $\\pi$?\n",
    "\n",
    "***\n",
    "### Action-Value function\n",
    "We can define an analogous definition for the **action-value function**, which extends the notion of the value function to account for choosing a *specific action* $a_t$ in a state $s_t$, rather than just choosing the one suggested by the policy:\n",
    "\n",
    "$$\n",
    "Q^\\pi (s_t, a_t) = \\mathbb{E}_\\pi \\left[ G_t \\vert s_t, a_t \\right]\n",
    "$$\n",
    "\n",
    "that is, given that we are currently in state $s_t$, taking action $a_t$, what value should we expect our discounted return $G_t$ to be? We can see the relationship between $V^\\pi (s_t)$ and $Q^\\pi (s_t, a_t)$:\n",
    "\n",
    "$$\n",
    "V^\\pi (s_t) = \\mathbb{E}_{a_t \\sim \\pi} \\left[ Q^\\pi (s_t, a_t) \\vert s_t \\right]\n",
    "$$\n",
    "\n",
    "\n",
    "\n",
    "We also have a Bellman equation for the state-value function:\n",
    "$$\n",
    "Q^\\pi (s_t, a_t) = \\mathbb{E}_\\pi \\left[ r_t + \\gamma Q^\\pi (s_{t+1}, a_{t+1}) \\vert s_t, a_t \\right]\n",
    "$$\n",
    "\n",
    "***\n",
    "### $Q$-learning\n",
    "$Q$-learning is an algorithm analogous to the TD(0) algorithm we've described before. In TD(0), we have a table $V$ containing predictions for $V^\\pi (s_t)$ for each state $s_t$, updating our predictions as follows:\n",
    "\n",
    "$$\n",
    "V (s_t) \\gets V (s_t) + \\alpha \\left( r_t + \\gamma V (s_{t+1}) - V (s_t) \\right)\n",
    "$$\n",
    "\n",
    "In $Q$-learning, we have a similar learning rule, except that our table now contains values for any state-action pair $(s_t, a_t)$.\n",
    "\n",
    "$$\n",
    "Q(s_t, a_t) \\gets Q(s_t, a_t) + \\alpha \\left( r_t + \\gamma Q(s_{t+1}, a_{t+1}) - Q(s_t, a_t) \\right)\n",
    "$$\n",
    "\n",
    "The advantage of $Q$-learning is that we have an estimate, for each action, of the expected discounted return we will get from taking that action. Recall the reward hypothesis:\n",
    "\n",
    "> Every action of a rational agent can be thought of as seeking to maximize some cumulative scalar reward signal.\n",
    "\n",
    "Consider being in some state $s_t$, and for each action $a_t$ we compute $Q(s_t, a_t)$. These values are our guesses for the discounted return we will get as a result of choosing each action. If we choose the action that maximizes $Q(s_t, a_t)$, then our agent is maximizing the discounted return. This defines a **greedy policy**\n",
    "\n",
    "$$\n",
    "\\pi(a_t \\vert s_t) = \\begin{cases} 1, & a_t = \\arg \\max_{a_t} Q(s_t, a_t) \\\\ 0, & \\text{otherwise} \\end{cases}\n",
    "$$\n",
    "\n",
    "***\n",
    "##### $\\varepsilon$-greedy\n",
    "Our agent can quickly become stuck in a suboptimal policy by always choosing the same action in the same state. This prevents the agent from exploring, and consequently from improving its predictions about $Q$. This problem is known as the **exploration-exploitation tradeoff**: should we try to learn more about the $Q$ function by exploring (and thus finding a better policy) or should we exploit what we know about the environment to try to maximize the returns that we know about?\n",
    "\n",
    "We use a parameter $\\varepsilon$ that determines with what probability we choose a random action versus choosing an action according to the greedy policy. We generate a random number $p \\in \\left[ 0, 1 \\right]$. If $p < \\varepsilon$ then we choose a random action, and if $p \\geq \\varepsilon$ then we choose an action according to the greedy policy.\n",
    "\n",
    "Initially, our guesses about $Q(s_t, a_t)$ are poor because they are randomly intialized. Thus, we should not use them to guide our policy at first. Therefore, initially $\\varepsilon$ should be high (closer to 1). Over time, the agent improves its guesses about $Q(s_t, a_t)$ and so it becomes more reliable in our greedy policy.\n",
    "\n",
    "A simple idea is to have some initial value $\\varepsilon_i$ and $\\varepsilon_f$ for the initial and final values of $\\varepsilon$, and some number of timesteps $n_\\varepsilon$ over which $\\varepsilon_i$ decays to $\\varepsilon_f$."
   ]
  },
  {
   "cell_type": "markdown",
   "metadata": {},
   "source": [
    "A quick note about random seeds: they matter. We can get [wildly different results based only on random seeds](https://arxiv.org/pdf/1709.06560.pdf). Feel free to change the seed and re-run the notebook to see how well the agent performs."
   ]
  },
  {
   "cell_type": "code",
   "execution_count": 1,
   "metadata": {},
   "outputs": [],
   "source": [
    "import numpy as np\n",
    "np.random.seed(102492902)\n",
    "import gym"
   ]
  },
  {
   "cell_type": "code",
   "execution_count": 2,
   "metadata": {},
   "outputs": [],
   "source": [
    "class Agent:\n",
    "    def __init__(self, num_states, num_actions, alpha=0.1, gamma = 0.99):\n",
    "        self.num_states = num_states\n",
    "        self.num_actions = num_actions\n",
    "        self.alpha = alpha\n",
    "        self.gamma = gamma\n",
    "        self.Q = np.random.rand(num_states, num_actions)\n",
    "    def act(self, s_t):\n",
    "        return np.argmax(self.Q[s_t])\n",
    "    \n",
    "    def update(self, s_t, a_t, s_t_next, r_t):\n",
    "        a_t_next = self.act(s_t_next)\n",
    "        self.Q[s_t, a_t] = self.Q[s_t, a_t] + self.alpha*(r_t + self.Q[s_t_next, a_t_next] - self.Q[s_t, a_t])"
   ]
  },
  {
   "cell_type": "code",
   "execution_count": 5,
   "metadata": {},
   "outputs": [],
   "source": [
    "env = gym.make(\"FrozenLake-v0\")"
   ]
  },
  {
   "cell_type": "code",
   "execution_count": 6,
   "metadata": {},
   "outputs": [],
   "source": [
    "num_states = env.observation_space.n\n",
    "num_actions = env.action_space.n\n",
    "agent = Agent(num_states, num_actions)"
   ]
  },
  {
   "cell_type": "code",
   "execution_count": 7,
   "metadata": {},
   "outputs": [],
   "source": [
    "T = 1000000\n",
    "s_t = env.reset()\n",
    "\n",
    "rewards = []\n",
    "\n",
    "for t in range(T):\n",
    "    a_t = agent.act(s_t)\n",
    "    s_t_next, r_t, done, info = env.step(a_t)\n",
    "    agent.update(s_t, a_t, s_t_next, r_t)\n",
    "    agent.decay_epsilon()\n",
    "    s_t = s_t_next\n",
    "    \n",
    "    if done:\n",
    "        rewards.append(r_t)\n",
    "        s_t = env.reset()"
   ]
  },
  {
   "cell_type": "code",
   "execution_count": 8,
   "metadata": {},
   "outputs": [],
   "source": [
    "import pandas as pd\n",
    "import seaborn as sns"
   ]
  },
  {
   "cell_type": "code",
   "execution_count": 9,
   "metadata": {},
   "outputs": [
    {
     "data": {
      "text/plain": [
       "<matplotlib.axes._subplots.AxesSubplot at 0x1a1cd2b208>"
      ]
     },
     "execution_count": 9,
     "metadata": {},
     "output_type": "execute_result"
    },
    {
     "data": {
      "image/png": "[encoded data removed]",
      "text/plain": [
       "<Figure size 432x288 with 1 Axes>"
      ]
     },
     "metadata": {
      "needs_background": "light"
     },
     "output_type": "display_data"
    }
   ],
   "source": [
    "rewards = np.asarray(rewards)\n",
    "running_mean_rewards = pd.Series(rewards).rolling(window=1000).mean()\n",
    "sns.lineplot(data=running_mean_rewards)"
   ]
  },
  {
   "cell_type": "code",
   "execution_count": null,
   "metadata": {},
   "outputs": [],
   "source": []
  },
  {
   "cell_type": "code",
   "execution_count": null,
   "metadata": {},
   "outputs": [],
   "source": []
  }
 ],
 "metadata": {
  "kernelspec": {
   "display_name": "Python 3",
   "language": "python",
   "name": "python3"
  },
  "language_info": {
   "codemirror_mode": {
    "name": "ipython",
    "version": 3
   },
   "file_extension": ".py",
   "mimetype": "text/x-python",
   "name": "python",
   "nbconvert_exporter": "python",
   "pygments_lexer": "ipython3",
   "version": "3.6.8"
  }
 },
 "nbformat": 4,
 "nbformat_minor": 2
}
