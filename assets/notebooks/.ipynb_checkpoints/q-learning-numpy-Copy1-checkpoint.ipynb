{
 "cells": [
  {
   "cell_type": "code",
   "execution_count": 1,
   "metadata": {},
   "outputs": [],
   "source": [
    "import numpy as np\n",
    "import gym\n",
    "import seaborn as sns\n",
    "import pandas as pd\n",
    "import tensorflow as tf\n",
    "sns.set()"
   ]
  },
  {
   "cell_type": "markdown",
   "metadata": {},
   "source": [
    "***\n",
    "# Q-learning\n",
    "\n",
    "***\n",
    "### Value Function\n",
    "Recall the definition of the **value function** $V(s_t)$:\n",
    "\n",
    "$$\n",
    "V(s_t) = \\mathbb{E} \\left[ G_t \\vert s_t \\right]\n",
    "$$\n",
    "\n",
    "In an MDP, our expected discounted return $G_t$ depends on the trajectories $\\tau$ that we generate. Whereas in a Markov process or Markov reward process this depends only on the underlying state dynamics, in an MDP, trajectories also depend on the actions that we choose. Since these actions are determined by our **policy** $\\pi$, we write the following:\n",
    "\n",
    "$$\n",
    "V^\\pi (s_t) = \\mathbb{E}_\\pi \\left[ G_t \\vert s_t \\right]\n",
    "$$\n",
    "\n",
    "that is, given that we are currently in state $s_t$, what value should we expect our discounted return $G_t$ to be, given that we generate trajectories according to our policy $\\pi$?\n",
    "\n",
    "***\n",
    "### Action-Value function\n",
    "We can define an analogous definition for the **action-value function**, which extends the notion of the value function to account for choosing a *specific action* $a_t$ in a state $s_t$, rather than just choosing the one suggested by the policy:\n",
    "\n",
    "$$\n",
    "Q^\\pi (s_t, a_t) = \\mathbb{E}_\\pi \\left[ G_t \\vert s_t, a_t \\right]\n",
    "$$\n",
    "\n",
    "that is, given that we are currently in state $s_t$, taking action $a_t$, what value should we expect our discounted return $G_t$ to be? We can see the relationship between $V^\\pi (s_t)$ and $Q^\\pi (s_t, a_t)$:\n",
    "\n",
    "$$\n",
    "V^\\pi (s_t) = \\mathbb{E}_{a_t \\sim \\pi} \\left[ Q^\\pi (s_t, a_t) \\vert s_t \\right]\n",
    "$$\n",
    "\n",
    "\n",
    "\n",
    "We also have a Bellman equation for the state-value function:\n",
    "$$\n",
    "Q^\\pi (s_t, a_t) = \\mathbb{E}_\\pi \\left[ r_t + \\gamma Q^\\pi (s_{t+1}, a_{t+1}) \\vert s_t, a_t \\right]\n",
    "$$\n",
    "\n",
    "***\n",
    "### $Q$-learning\n",
    "$Q$-learning is an algorithm analogous to the TD(0) algorithm we've described before. In TD(0), we have a table $V$ containing predictions for $V^\\pi (s_t)$ for each state $s_t$, updating our predictions as follows:\n",
    "\n",
    "$$\n",
    "V (s_t) \\gets V (s_t) + \\alpha \\left( r_t + \\gamma V (s_{t+1}) - V (s_t) \\right)\n",
    "$$\n",
    "\n",
    "In $Q$-learning, we have a similar learning rule, except that our table now contains values for any state-action pair $(s_t, a_t)$.\n",
    "\n",
    "$$\n",
    "Q(s_t, a_t) \\gets Q(s_t, a_t) + \\alpha \\left( r_t + \\gamma Q(s_{t+1}, a_{t+1}) - Q(s_t, a_t) \\right)\n",
    "$$\n",
    "\n",
    "The advantage of $Q$-learning is that we have an estimate, for each action, of the expected discounted return we will get from taking that action. Recall the reward hypothesis:\n",
    "\n",
    "> Every action of a rational agent can be thought of as seeking to maximize some cumulative scalar reward signal.\n",
    "\n",
    "Consider being in some state $s_t$, and for each action $a_t$ we compute $Q(s_t, a_t)$. These values are our guesses for the discounted return we will get as a result of choosing each action. If we choose the action that maximizes $Q(s_t, a_t)$, then our agent is maximizing the discounted return. This defines a **greedy policy**\n",
    "\n",
    "$$\n",
    "\\pi(a_t \\vert s_t) = \\begin{cases} 1, & a_t = \\arg \\max_{a_t} Q(s_t, a_t) \\\\ 0, & \\text{otherwise} \\end{cases}\n",
    "$$\n",
    "\n",
    "Knowing this, we can estimate the $Q$ value for the next state-action pair $(s_{t+1}, a_{t+1})$ by assuming the agent chooses the action that maximizes that $Q$ value. This gives us the following update rule:\n",
    "\n",
    "$$\n",
    "Q(s_t, a_t) \\gets Q(s_t, a_t) + \\alpha \\left( r_t + \\gamma \\max_{a_{t+1}} \\left( Q(s_{t+1}, a_{t+1}) \\right) - Q(s_t, a_t) \\right)\n",
    "$$\n",
    "\n",
    "***\n",
    "### Modified Bellman Equation and Terminal States\n",
    "Recall that some environments are **episodic**. This means that there must be some states $s_T$ where, regardless of what action is chosen, the next state is always $s_T$ and the reward is always $0$. In the `gym` interface, we use the `step` function to inform the agent about $s_{t+1}$, $r_t$, $d_t$, and `info`, where $d_t$ is a boolean flag that is `True` when the current state is terminal and `False` otherwise.\n",
    "\n",
    "By the definition of $Q(s_t, a_t)$, we can see that $r_t + \\gamma Q(s_{t+1}, a_{t+1})$ is an unbiased estimate for $Q(s_t, a_t)$. This is what gives us the Bellman equation update rule. If we know that a state is terminal, then we have an even better estimate: if $s_t$ is terminal, then $G_t = r_t$, and our update rule is just\n",
    "\n",
    "$$\n",
    "Q(s_t, a_t) \\gets Q(s_t, a_t) + \\alpha \\left( r_t - Q(s_t, a_t) \\right)\n",
    "$$\n",
    "\n",
    "If we interpret the truthiness of $d_t$ as an integer (i.e., $d_t = 1$ if `True` and $0$ if `False`), then we can define a modified update rule that takes terminal states into account:\n",
    "\n",
    "$$\n",
    "Q(s_t, a_t) \\gets Q(s_t, a_t) + \\alpha \\left( r_t + (1-d_t)\\gamma \\max_{a_{t+1}} \\left( Q(s_{t+1}, a_{t+1}) \\right) - Q(s_t, a_t) \\right)\n",
    "$$\n",
    "\n",
    "***\n",
    "### Exploration-Exploitation\n",
    "\n",
    "Our agent can quickly become stuck in a suboptimal policy by always choosing the same action in the same state. This prevents the agent from exploring, and consequently from improving its predictions about $Q$. This problem is known as the **exploration-exploitation tradeoff**: should we try to learn more about the $Q$ function by exploring (and thus finding a better policy) or should we exploit what we know about the environment to try to maximize the returns that we know about?\n",
    "\n",
    "### $\\epsilon$-greedy approaches\n",
    "sims"
   ]
  },
  {
   "cell_type": "code",
   "execution_count": 2,
   "metadata": {},
   "outputs": [],
   "source": [
    "class Agent:\n",
    "    def __init__(self, num_states, num_actions, \n",
    "                 epsilon_i=1.0, \n",
    "                 epsilon_f=0.0, \n",
    "                 n_epsilon=0.1, \n",
    "                 alpha=0.5, \n",
    "                 gamma = 0.95):\n",
    "        \n",
    "        self.epsilon_i = epsilon_i\n",
    "        self.epsilon_f = epsilon_f\n",
    "        self.epsilon = epsilon_i\n",
    "        self.n_epsilon = n_epsilon\n",
    "        self.num_states = num_states\n",
    "        self.num_actions = num_actions\n",
    "        self.alpha = alpha\n",
    "        self.gamma = gamma\n",
    "        self.Q = np.zeros((num_states, num_actions))\n",
    "\n",
    "    def decay_epsilon(self, n):\n",
    "        self.epsilon = max(\n",
    "            self.epsilon_f, \n",
    "            self.epsilon_i - (n/self.n_epsilon)*(self.epsilon_i - self.epsilon_f))\n",
    "    \n",
    "    def act(self, s_t):\n",
    "        if np.random.rand() < self.epsilon:\n",
    "            return np.random.randint(self.num_actions)\n",
    "        return np.argmax(self.Q[s_t])\n",
    "    \n",
    "    def update(self, s_t, a_t, r_t, s_t_next, d_t):\n",
    "        Q_next = np.max(self.Q[s_t_next])\n",
    "        self.Q[s_t, a_t] = self.Q[s_t, a_t] + \\\n",
    "        self.alpha*(r_t + (1-d_t)*self.gamma*Q_next - \\\n",
    "        self.Q[s_t, a_t])"
   ]
  },
  {
   "cell_type": "code",
   "execution_count": 3,
   "metadata": {},
   "outputs": [],
   "source": [
    "def plot(data, window=100):\n",
    "    sns.lineplot(\n",
    "        data=data.rolling(window=window).mean()[window-1::window]\n",
    "    )"
   ]
  },
  {
   "cell_type": "code",
   "execution_count": 4,
   "metadata": {},
   "outputs": [],
   "source": [
    "def train(env_name,\n",
    "         T=100000, alpha=0.8, gamma=0.95, epsilon_i = 1.0, epsilon_f = 0.0, n_epsilon = 0.1):\n",
    "    env = gym.make(env_name)\n",
    "    num_states = env.observation_space.n\n",
    "    num_actions = env.action_space.n\n",
    "    agent = Agent(num_states, num_actions, alpha=alpha, gamma=gamma, epsilon_i=epsilon_i, epsilon_f=epsilon_f, n_epsilon = n_epsilon)\n",
    "\n",
    "    rewards = []\n",
    "    episode_rewards = 0\n",
    "    \n",
    "    s_t = env.reset()\n",
    "    \n",
    "    for t in range(T):\n",
    "        a_t = agent.act(s_t)\n",
    "        s_t_next, r_t, d_t, info = env.step(a_t)\n",
    "        agent.update(s_t, a_t, r_t, s_t_next, d_t)\n",
    "        agent.decay_epsilon(t/T)\n",
    "        s_t = s_t_next\n",
    "        episode_rewards += r_t\n",
    "        \n",
    "        if d_t:\n",
    "            rewards.append(episode_rewards)\n",
    "            episode_rewards = 0\n",
    "            s_t = env.reset()\n",
    "            \n",
    "    plot(pd.DataFrame(rewards))\n",
    "    return agent"
   ]
  },
  {
   "cell_type": "code",
   "execution_count": 5,
   "metadata": {},
   "outputs": [
    {
     "data": {
      "text/plain": [
       "<__main__.Agent at 0x1a2c391748>"
      ]
     },
     "execution_count": 5,
     "metadata": {},
     "output_type": "execute_result"
    },
    {
     "data": {
      "image/png": "[encoded data removed]",
      "text/plain": [
       "<Figure size 432x288 with 1 Axes>"
      ]
     },
     "metadata": {
      "needs_background": "light"
     },
     "output_type": "display_data"
    }
   ],
   "source": [
    "train(\"FrozenLake-v0\", T=100000)"
   ]
  }
 ],
 "metadata": {
  "kernelspec": {
   "display_name": "Python 3",
   "language": "python",
   "name": "python3"
  },
  "language_info": {
   "codemirror_mode": {
    "name": "ipython",
    "version": 3
   },
   "file_extension": ".py",
   "mimetype": "text/x-python",
   "name": "python",
   "nbconvert_exporter": "python",
   "pygments_lexer": "ipython3",
   "version": "3.6.8"
  }
 },
 "nbformat": 4,
 "nbformat_minor": 2
}
